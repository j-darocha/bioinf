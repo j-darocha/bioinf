{
 "cells": [
  {
   "cell_type": "code",
   "execution_count": null,
   "metadata": {},
   "outputs": [],
   "source": [
    "import pytraj as pt\n",
    "import pandas as pd \n",
    "import mdtraj as md\n",
    "import numpy as np\n",
    "import glob\n",
    "import matplotlib.pylab as plt \n",
    "from sklearn.decomposition import PCA\n",
    "import matplotlib.pyplot as plt\n",
    "import pytraj as pt\n",
    "from matplotlib.ticker import (MultipleLocator, FormatStrFormatter, AutoMinorLocator)\n",
    "import matplotlib.cm as cm\n",
    "from scipy.spatial import distance\n",
    "\n",
    "#run dependency script\n",
    "%run \"traj_analysis.py\"\n",
    "\n",
    "#specify dirs\n",
    "TRAJHOME = \"/home/jrocha/work_dir/mutations_g6pd/\"\n",
    "OUTPUTHOME = \"/home/jrocha/work_dir/mutations_g6pd/\"\n",
    "common_ref = md.load_pdb('G6PD_WT_p_vacminned.pdb')\n",
    "\n",
    "#specify trajectory dataset as produced by cppTraj (to combine)\n",
    "\n",
    "wt = TRAJHOME+'WT_p/production_md/g6pd_WT_p_traj_510ns.nc'\n",
    "MEDI = TRAJHOME+'MEDI_p/production_md/g6pd_MEDI_p_traj_510ns.nc'\n",
    "ABEN = TRAJHOME+'Africa_A_ben/production_md/g6pd_ABEN_traj_510ns.nc'\n",
    "ADEL = TRAJHOME+'Africa_A_del/production_md/g6pd_ADEL_traj_510ns.nc'\n",
    "D350H = TRAJHOME+'D350H/production_md/g6pd_D350H_traj_510ns.nc'\n",
    "M207T = TRAJHOME+'M207T/production_md/g6pd_M207T_traj_510ns.nc'\n",
    "M212V = TRAJHOME+'M212V/production_md/g6pd_M212V_traj_510ns.nc'\n",
    "R104H = TRAJHOME+'R104H/production_md/g6pd_R104H_traj_510ns.nc'\n",
    "E156K = TRAJHOME+'E156K/production_md/g6pd_E156K_traj_510ns.nc'\n",
    "L323P = TRAJHOME+'L323P/production_md/g6pd_L323P_traj_510ns.nc'\n",
    "\n",
    "TOPWT=TRAJHOME+\"WT_p/production_md/stripped.G6PD_WT_p_startMD.prmtop\"\n",
    "TOPMEDI=TRAJHOME+\"MEDI_p/production_md/stripped.G6PD_MEDI_p_startMD.prmtop\"\n",
    "TOPABEN=TRAJHOME+\"Africa_A_ben/production_md/stripped.G6PD_ABEN_startMD.prmtop\"\n",
    "TOPADEL=TRAJHOME+\"Africa_A_del/production_md/stripped.G6PD_ADEL_startMD.prmtop\"\n",
    "TOPD350H = TRAJHOME+'D350H/production_md/stripped.G6PD_D350H_startMD.prmtop'\n",
    "TOPM207T = TRAJHOME+'M207T/production_md/stripped.G6PD_M207T_startMD.prmtop'\n",
    "TOPM212V = TRAJHOME+'M212V/production_md/stripped.G6PD_M212V_startMD.prmtop'\n",
    "TOPR104H = TRAJHOME+'R104H/production_md/stripped.G6PD_R104H_startMD.prmtop'\n",
    "TOPE156K = TRAJHOME+'E156K/production_md/stripped.G6PD_E156K_startMD.prmtop'\n",
    "TOPL323P = TRAJHOME+'L323P/production_md/stripped.G6PD_L323P_startMD.prmtop'\n",
    "\n",
    "traj_paths = [wt, MEDI, ABEN, ADEL, D350H, M207T, M212V, R104H, E156K, L323P ]\n",
    "top_files = [TOPWT, TOPMEDI, TOPABEN, TOPADEL, TOPD350H, TOPM207T,  TOPM212V, TOPR104H, TOPE156K, TOPL323P ]\n",
    "labels = [\"WT\", \"MEDI\", \"ABEN\",\"ADEL\", \"D350H\", \"M207T\",  \"M212V\", \"R104H\", \"E156K\", \"L323P\" ]\n",
    "\n",
    "traj_wt = md.load(wt, top=TOPWT)\n",
    "\n",
    "\n",
    "\n"
   ]
  },
  {
   "cell_type": "code",
   "execution_count": null,
   "metadata": {},
   "outputs": [],
   "source": [
    "#select the start point for rmsf, its the a point just after equilbration has taken place \n",
    "#start = 30987\n",
    "start = 30987\n",
    "\n",
    "#run the RMSF for the trajectories\n",
    "for trajectory,topology,label in  zip(traj_paths, top_files, labels  ) :\n",
    "    mytraj = md.load(trajectory, top=topology)\n",
    "    wt_and_vars_trajs = [traj_wt, mytraj]\n",
    "    rmsf = RmsfCalculation(wt_and_vars_trajs, common_ref, start=start, offset = 25, labels = [\"Ref\", label] )\n",
    "    rmsf.CalculateRmsf()\n",
    "    rmsf.dumpToCsv(output=OUTPUTHOME+\"/data/\"+label+\"_RMSF.csv\")\n",
    "    del rmsf"
   ]
  },
  {
   "cell_type": "code",
   "execution_count": null,
   "metadata": {},
   "outputs": [],
   "source": [
    "#generate the rmsf plots\n",
    "data_home = \"/home/jrocha/work_dir/mutations_g6pd/data/\"\n",
    "plt.rcParams[\"figure.figsize\"] = (14,32)\n",
    "\n",
    "\n",
    "rmsfs = pd.read_csv(data_home+labels[0]+'_RMSF.csv')\n",
    "\n",
    "for label in labels[1:]: \n",
    "    df = pd.read_csv(data_home+label+'_RMSF.csv')\n",
    "    rmsfs=pd.concat([rmsfs, df[label]], axis=1)\n",
    "rmsfs.to_csv(data_home+\"all_RMSFs.csv\", index=False)\n",
    "plot_rmsf = RmsfPlots(data_home+\"all_RMSFs.csv\", 10)\n",
    "plot_rmsf.PlotRmsfVars(range_of_data=[36, 970], output=\"testrmsf.pdf\")\n",
    "\n",
    "#plt.savefig(\"rmsf_All10_510ns.pdf\")\n",
    "plt.show()"
   ]
  },
  {
   "cell_type": "code",
   "execution_count": null,
   "metadata": {},
   "outputs": [],
   "source": [
    "plt.savefig(\"rmsf_All10_510ns.pdf\")\n"
   ]
  },
  {
   "cell_type": "code",
   "execution_count": null,
   "metadata": {},
   "outputs": [],
   "source": []
  }
 ],
 "metadata": {
  "kernelspec": {
   "display_name": "Python 3",
   "language": "python",
   "name": "python3"
  },
  "language_info": {
   "codemirror_mode": {
    "name": "ipython",
    "version": 3
   },
   "file_extension": ".py",
   "mimetype": "text/x-python",
   "name": "python",
   "nbconvert_exporter": "python",
   "pygments_lexer": "ipython3",
   "version": "3.7.3"
  }
 },
 "nbformat": 4,
 "nbformat_minor": 4
}
