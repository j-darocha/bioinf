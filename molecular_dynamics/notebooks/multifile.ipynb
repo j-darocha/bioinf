{
 "cells": [
  {
   "cell_type": "code",
   "execution_count": 10,
   "metadata": {},
   "outputs": [
    {
     "name": "stdout",
     "output_type": "stream",
     "text": [
      "Kaa_kaa_moo_Moo\n"
     ]
    }
   ],
   "source": [
    "j = \"kaa\"\n",
    "\n",
    "i = \"moo\"\n",
    "\n",
    "print(\"Kaa_%s_%s_Moo\" %(j,i))"
   ]
  },
  {
   "cell_type": "code",
   "execution_count": null,
   "metadata": {},
   "outputs": [],
   "source": []
  },
  {
   "cell_type": "code",
   "execution_count": 1,
   "metadata": {},
   "outputs": [],
   "source": [
    "for j in {\"WT_p\",\"MEDI_p\",\"D350H\", \"M212V\",\"R104H\", \"M207T\", \"E156K\", \"L323P\"}:\n",
    "    for i in {435,460,485,510}:\n",
    "        # Read in the file\n",
    "        with open('md_VAR_BASEns.pbs', 'r') as file :\n",
    "          filedata = file.read()\n",
    "\n",
    "        # Replace the target string\n",
    "        filedata = filedata.replace('VAR', str(j))\n",
    "        filedata = filedata.replace('BASE', str(i))\n",
    "        prev = (i-25)\n",
    "        filedata = filedata.replace('PREV', str(prev))\n",
    "        # Write the file out again\n",
    "        with open('md_%s_%sns.pbs' % (j,i), 'w') as file:\n",
    "          file.write(filedata)"
   ]
  },
  {
   "cell_type": "code",
   "execution_count": 2,
   "metadata": {},
   "outputs": [],
   "source": [
    "for j in {\"WT_p\",\"MEDI_p\",\"ADEL\",\"ABEN\",\"D350H\", \"M212V\",\"R104H\", \"M207T\", \"E156K\", \"L323P\"}:\n",
    "        # Read in the file\n",
    "        with open('queue_2_base.sh', 'r') as file :\n",
    "          filedata = file.read()\n",
    "\n",
    "        # Replace the target string\n",
    "        filedata = filedata.replace('VAR', str(j))\n",
    "        # Write the file out again\n",
    "        with open('queue_510_%s.sh' % j, 'w') as file:\n",
    "          file.write(filedata)"
   ]
  },
  {
   "cell_type": "code",
   "execution_count": null,
   "metadata": {},
   "outputs": [],
   "source": []
  }
 ],
 "metadata": {
  "kernelspec": {
   "display_name": "Python 3",
   "language": "python",
   "name": "python3"
  },
  "language_info": {
   "codemirror_mode": {
    "name": "ipython",
    "version": 3
   },
   "file_extension": ".py",
   "mimetype": "text/x-python",
   "name": "python",
   "nbconvert_exporter": "python",
   "pygments_lexer": "ipython3",
   "version": "3.7.3"
  }
 },
 "nbformat": 4,
 "nbformat_minor": 2
}
