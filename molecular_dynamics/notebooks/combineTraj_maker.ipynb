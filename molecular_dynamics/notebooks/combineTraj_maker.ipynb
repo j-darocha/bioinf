{
 "cells": [
  {
   "cell_type": "code",
   "execution_count": 1,
   "metadata": {},
   "outputs": [],
   "source": [
    "for j in {\"ADEL\",\"ABEN\",\"D350H\", \"M212V\",\"R104H\", \"M207T\", \"E156K\", \"L323P\"}:\n",
    "        # Read in the file\n",
    "        with open('combineTraj_BASE.pbs', 'r') as file :\n",
    "          filedata = file.read()\n",
    "\n",
    "        # Replace the target string\n",
    "        filedata = filedata.replace('BASE', str(j))\n",
    "        # Write the file out again\n",
    "        with open('combineTraj_%s.sh' % j, 'w') as file:\n",
    "          file.write(filedata)"
   ]
  },
  {
   "cell_type": "code",
   "execution_count": 1,
   "metadata": {},
   "outputs": [],
   "source": [
    "for j in {\"ADEL\",\"ABEN\",\"D350H\", \"M212V\",\"R104H\", \"M207T\", \"E156K\", \"L323P\"}:\n",
    "        # Read in the file\n",
    "        with open('figure_porcupine_BASE.sh', 'r') as file :\n",
    "          filedata = file.read()\n",
    "\n",
    "        # Replace the target string\n",
    "        filedata = filedata.replace('BASE', str(j))\n",
    "        # Write the file out again\n",
    "        with open('figure_porcupine_%s.sh' % j, 'w') as file:\n",
    "          file.write(filedata)"
   ]
  },
  {
   "cell_type": "code",
   "execution_count": null,
   "metadata": {},
   "outputs": [],
   "source": []
  }
 ],
 "metadata": {
  "kernelspec": {
   "display_name": "Python 3",
   "language": "python",
   "name": "python3"
  },
  "language_info": {
   "codemirror_mode": {
    "name": "ipython",
    "version": 3
   },
   "file_extension": ".py",
   "mimetype": "text/x-python",
   "name": "python",
   "nbconvert_exporter": "python",
   "pygments_lexer": "ipython3",
   "version": "3.7.3"
  }
 },
 "nbformat": 4,
 "nbformat_minor": 2
}
