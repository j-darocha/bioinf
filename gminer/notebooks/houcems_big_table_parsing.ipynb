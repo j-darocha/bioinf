{
 "cells": [
  {
   "cell_type": "code",
   "execution_count": 4,
   "metadata": {},
   "outputs": [],
   "source": [
    "import pandas as pd \n",
    "data=pd.read_csv(\"annotation_ADME_genes_only_table.csv\")\n",
    "NS_variants = data[\"variants_effect_frameshift_variant\"]+data[\"variants_effect_missense_variant\"]+ \\\n",
    "    data[\"variants_effect_splice_acceptor_variant\"]+  data[\"variants_effect_splice_donor_variant\"] + \\\n",
    "    data[\"variants_effect_splice_region_variant\"] + data[\"variants_effect_start_lost\"]+ \\\n",
    "    data[\"variants_effect_stop_gained\"] + data[\"variants_effect_stop_lost\"] + \\\n",
    "    data[\"variants_effect_stop_retained_variant\"]\n",
    "\n",
    "# NS_variants, data[\"variants_effect_3_prime_UTR_variant\"],\n",
    "    \n",
    "df = pd.DataFrame( )\n",
    "\n",
    "df[\"non-synonymous\"] = NS_variants\n",
    "df[\"3_prime_UTR\"] = data[\"variants_effect_3_prime_UTR_variant\"]\n",
    "df[\"5_prime_UTR\"] = data[\"variants_effect_5_prime_UTR_variant\"]\n",
    "df[\"down_stream\"] = data[\"variants_effect_downstream_gene_variant\"]\n",
    "df[\"introns\"] = data[\"variants_effect_intron_variant\"]\n",
    "df[\"synonymous\"] = data[\"variants_effect_synonymous_variant\"]\n",
    "df[\"upsteam\"] = data[\"variants_effect_upstream_gene_variant\"]\n",
    "df[\"tag\"] = data[\"Tag\"]\n",
    "df[\"sample\"] = data[\"sample\"]\n",
    "\n"
   ]
  },
  {
   "cell_type": "code",
   "execution_count": 5,
   "metadata": {},
   "outputs": [],
   "source": [
    "mydf = df[(df[\"sample\"]==\"H3A\") | (df[\"sample\"]==\"KG\") ]"
   ]
  },
  {
   "cell_type": "code",
   "execution_count": 6,
   "metadata": {},
   "outputs": [],
   "source": [
    "H3A_core = mydf[ (mydf[\"sample\"]==\"H3A\") & (mydf[\"tag\"]==\"core\") ] \n",
    "H3A_extended = mydf[ (mydf[\"sample\"]==\"H3A\") & (mydf[\"tag\"]==\"extended\") ] \n",
    "\n",
    "kg_core = mydf[ (mydf[\"sample\"]==\"KG\") & (mydf[\"tag\"]==\"core\") ] \n",
    "kg_extended = mydf[ (mydf[\"sample\"]==\"KG\") & (mydf[\"tag\"]==\"extended\") ] \n",
    "\n",
    "h3a_core_data=list(H3A_core.sum() )[0:7]\n",
    "h3a_core_data=[int(element) for element in h3a_core_data ]\n",
    "\n",
    "kg_core_data=list(kg_core.sum() )[0:7]\n",
    "kg_core_data=[int(element) for element in kg_core_data ]\n",
    "\n",
    "\n",
    "h3a_extended_data=list(H3A_extended.sum() )[0:7]\n",
    "h3a_extended_data=[int(element) for element in h3a_extended_data ]\n",
    "\n",
    "kg_extended_data=list(kg_extended.sum() )[0:7]\n",
    "kg_extended_data=[int(element) for element in kg_extended_data ]\n"
   ]
  },
  {
   "cell_type": "code",
   "execution_count": 7,
   "metadata": {},
   "outputs": [],
   "source": [
    "import matplotlib.pylab as plt\n",
    "\n",
    "labels = [\"non-synonymous\", \"3_prime_UTR\", \"5_prime_UTR\", \"down_stream\", \n",
    "          \"introns\", \"synonymous\", \"upsteam\"]\n",
    "\n",
    "\n"
   ]
  },
  {
   "cell_type": "code",
   "execution_count": 9,
   "metadata": {},
   "outputs": [
    {
     "data": {
      "image/png": "[encoded data removed]",
      "text/plain": [
       "<Figure size 936x216 with 1 Axes>"
      ]
     },
     "metadata": {
      "needs_background": "light"
     },
     "output_type": "display_data"
    }
   ],
   "source": [
    "import matplotlib\n",
    "import matplotlib.pyplot as plt\n",
    "import numpy as np\n",
    "from matplotlib.pyplot import figure\n",
    "\n",
    "plt.rcParams[\"figure.figsize\"] = [13, 3]\n",
    "    \n",
    "labels = [\"Non-synonymous\", \"3' UTR\", \"5' UTR\", \"Downstream\", \n",
    "          \"Introns\", \"Synonymous\", \"Upstream\"]\n",
    "h3a_means = h3a_extended_data\n",
    "kg_means = kg_extended_data\n",
    "\n",
    "x = np.arange(len(labels))  # the label locations\n",
    "width = 0.35  # the width of the bars\n",
    "\n",
    "fig, ax = plt.subplots()\n",
    "rects1 = ax.bar(x - width/2, h3a_means, width, label='H3A')\n",
    "rects2 = ax.bar(x + width/2, kg_means, width, label='KG')\n",
    "\n",
    "# Add some text for labels, title and custom x-axis tick labels, etc.\n",
    "ax.set_ylabel('Number of variants')\n",
    "ax.set_title('Variant count by annotation category for extended genes')\n",
    "ax.set_xticks(x)\n",
    "ax.set_xticklabels(labels)\n",
    "ax.legend()\n",
    "ax.set_yscale('log')\n",
    "\n",
    "def autolabel(rects):\n",
    "    \"\"\"Attach a text label above each bar in *rects*, displaying its height.\"\"\"\n",
    "    for rect in rects:\n",
    "        height = rect.get_height()\n",
    "        ax.annotate('{}'.format(height),\n",
    "                    xy=(rect.get_x() + rect.get_width() / 2, height),\n",
    "                    xytext=(0, 3),  # 3 points vertical offset\n",
    "                    textcoords=\"offset points\",\n",
    "                    ha='center', va='bottom')\n",
    "\n",
    "\n",
    "autolabel(rects1)\n",
    "autolabel(rects2)\n",
    "\n",
    "fig.tight_layout()\n",
    "plt.grid(b=None)\n",
    "\n",
    "plt.show()"
   ]
  },
  {
   "cell_type": "code",
   "execution_count": 14,
   "metadata": {},
   "outputs": [
    {
     "data": {
      "text/plain": [
       "339"
      ]
     },
     "execution_count": 14,
     "metadata": {},
     "output_type": "execute_result"
    }
   ],
   "source": [
    "len(H3A_extended.index)"
   ]
  },
  {
   "cell_type": "code",
   "execution_count": 6,
   "metadata": {},
   "outputs": [
    {
     "data": {
      "text/plain": [
       "non-synonymous                                                  514\n",
       "3_prime_UTR                                                     438\n",
       "5_prime_UTR                                                      80\n",
       "down_stream                                                    3453\n",
       "introns                                                       37151\n",
       "synonymous                                                      261\n",
       "upsteam                                                        3296\n",
       "tag               corecorecorecorecorecorecorecorecorecorecoreco...\n",
       "sample            H3AH3AH3AH3AH3AH3AH3AH3AH3AH3AH3AH3AH3AH3AH3AH...\n",
       "dtype: object"
      ]
     },
     "execution_count": 6,
     "metadata": {},
     "output_type": "execute_result"
    }
   ],
   "source": [
    "H3A_core.sum() \n"
   ]
  },
  {
   "cell_type": "code",
   "execution_count": 7,
   "metadata": {},
   "outputs": [
    {
     "data": {
      "text/plain": [
       "non-synonymous                                                 3883\n",
       "3_prime_UTR                                                    5748\n",
       "5_prime_UTR                                                    1074\n",
       "down_stream                                                   30151\n",
       "introns                                                      260720\n",
       "synonymous                                                     2448\n",
       "upsteam                                                       26959\n",
       "tag               extendedextendedextendedextendedextendedextend...\n",
       "sample            H3AH3AH3AH3AH3AH3AH3AH3AH3AH3AH3AH3AH3AH3AH3AH...\n",
       "dtype: object"
      ]
     },
     "execution_count": 7,
     "metadata": {},
     "output_type": "execute_result"
    }
   ],
   "source": [
    "H3A_extended.sum() \n"
   ]
  },
  {
   "cell_type": "code",
   "execution_count": 8,
   "metadata": {},
   "outputs": [
    {
     "data": {
      "text/plain": [
       "non-synonymous                                                 3627\n",
       "3_prime_UTR                                                    5293\n",
       "5_prime_UTR                                                     913\n",
       "down_stream                                                   27488\n",
       "introns                                                      232651\n",
       "synonymous                                                     2159\n",
       "upsteam                                                       24620\n",
       "tag               extendedextendedextendedextendedextendedextend...\n",
       "sample            KGKGKGKGKGKGKGKGKGKGKGKGKGKGKGKGKGKGKGKGKGKGKG...\n",
       "dtype: object"
      ]
     },
     "execution_count": 8,
     "metadata": {},
     "output_type": "execute_result"
    }
   ],
   "source": [
    "kg_extended.sum() \n"
   ]
  },
  {
   "cell_type": "code",
   "execution_count": 9,
   "metadata": {},
   "outputs": [
    {
     "data": {
      "text/html": [
       "<div>\n",
       "<style scoped>\n",
       "    .dataframe tbody tr th:only-of-type {\n",
       "        vertical-align: middle;\n",
       "    }\n",
       "\n",
       "    .dataframe tbody tr th {\n",
       "        vertical-align: top;\n",
       "    }\n",
       "\n",
       "    .dataframe thead th {\n",
       "        text-align: right;\n",
       "    }\n",
       "</style>\n",
       "<table border=\"1\" class=\"dataframe\">\n",
       "  <thead>\n",
       "    <tr style=\"text-align: right;\">\n",
       "      <th></th>\n",
       "      <th>#GeneName</th>\n",
       "      <th>BioType</th>\n",
       "      <th>GeneId</th>\n",
       "      <th>Tag</th>\n",
       "      <th>TranscriptId</th>\n",
       "      <th>ensemble_id</th>\n",
       "      <th>exon_length</th>\n",
       "      <th>gene_size</th>\n",
       "      <th>sample</th>\n",
       "      <th>variants_effect_3_prime_UTR_variant</th>\n",
       "      <th>...</th>\n",
       "      <th>variants_effect_stop_lost</th>\n",
       "      <th>variants_effect_stop_retained_variant</th>\n",
       "      <th>variants_effect_structural_interaction_variant</th>\n",
       "      <th>variants_effect_synonymous_variant</th>\n",
       "      <th>variants_effect_transcript_ablation</th>\n",
       "      <th>variants_effect_upstream_gene_variant</th>\n",
       "      <th>variants_impact_HIGH</th>\n",
       "      <th>variants_impact_LOW</th>\n",
       "      <th>variants_impact_MODERATE</th>\n",
       "      <th>variants_impact_MODIFIER</th>\n",
       "    </tr>\n",
       "  </thead>\n",
       "  <tbody>\n",
       "    <tr>\n",
       "      <th>19</th>\n",
       "      <td>DPYD</td>\n",
       "      <td>protein_coding</td>\n",
       "      <td>DPYD</td>\n",
       "      <td>core</td>\n",
       "      <td>NM_000110.3</td>\n",
       "      <td>ENSG00000188641</td>\n",
       "      <td>6556</td>\n",
       "      <td>843316</td>\n",
       "      <td>H3A</td>\n",
       "      <td>8.0</td>\n",
       "      <td>...</td>\n",
       "      <td>0.0</td>\n",
       "      <td>0.0</td>\n",
       "      <td>0.0</td>\n",
       "      <td>11.0</td>\n",
       "      <td>0.0</td>\n",
       "      <td>59.0</td>\n",
       "      <td>1.0</td>\n",
       "      <td>15.0</td>\n",
       "      <td>16.0</td>\n",
       "      <td>13224.0</td>\n",
       "    </tr>\n",
       "    <tr>\n",
       "      <th>380</th>\n",
       "      <td>DPYD</td>\n",
       "      <td>protein_coding</td>\n",
       "      <td>DPYD</td>\n",
       "      <td>core</td>\n",
       "      <td>NM_000110.3</td>\n",
       "      <td>ENSG00000188641</td>\n",
       "      <td>6556</td>\n",
       "      <td>843316</td>\n",
       "      <td>KG</td>\n",
       "      <td>0.0</td>\n",
       "      <td>...</td>\n",
       "      <td>0.0</td>\n",
       "      <td>0.0</td>\n",
       "      <td>0.0</td>\n",
       "      <td>0.0</td>\n",
       "      <td>0.0</td>\n",
       "      <td>0.0</td>\n",
       "      <td>0.0</td>\n",
       "      <td>0.0</td>\n",
       "      <td>0.0</td>\n",
       "      <td>247.0</td>\n",
       "    </tr>\n",
       "    <tr>\n",
       "      <th>381</th>\n",
       "      <td>DPYD</td>\n",
       "      <td>protein_coding</td>\n",
       "      <td>DPYD</td>\n",
       "      <td>core</td>\n",
       "      <td>NM_000110.3</td>\n",
       "      <td>ENSG00000188641</td>\n",
       "      <td>6556</td>\n",
       "      <td>843316</td>\n",
       "      <td>KG</td>\n",
       "      <td>0.0</td>\n",
       "      <td>...</td>\n",
       "      <td>0.0</td>\n",
       "      <td>0.0</td>\n",
       "      <td>0.0</td>\n",
       "      <td>0.0</td>\n",
       "      <td>0.0</td>\n",
       "      <td>0.0</td>\n",
       "      <td>0.0</td>\n",
       "      <td>1.0</td>\n",
       "      <td>3.0</td>\n",
       "      <td>3590.0</td>\n",
       "    </tr>\n",
       "    <tr>\n",
       "      <th>382</th>\n",
       "      <td>DPYD</td>\n",
       "      <td>protein_coding</td>\n",
       "      <td>DPYD</td>\n",
       "      <td>core</td>\n",
       "      <td>NM_000110.3</td>\n",
       "      <td>ENSG00000188641</td>\n",
       "      <td>6556</td>\n",
       "      <td>843316</td>\n",
       "      <td>KG</td>\n",
       "      <td>6.0</td>\n",
       "      <td>...</td>\n",
       "      <td>0.0</td>\n",
       "      <td>0.0</td>\n",
       "      <td>0.0</td>\n",
       "      <td>7.0</td>\n",
       "      <td>0.0</td>\n",
       "      <td>50.0</td>\n",
       "      <td>1.0</td>\n",
       "      <td>9.0</td>\n",
       "      <td>18.0</td>\n",
       "      <td>11510.0</td>\n",
       "    </tr>\n",
       "  </tbody>\n",
       "</table>\n",
       "<p>4 rows × 41 columns</p>\n",
       "</div>"
      ],
      "text/plain": [
       "    #GeneName         BioType GeneId   Tag TranscriptId      ensemble_id  \\\n",
       "19       DPYD  protein_coding   DPYD  core  NM_000110.3  ENSG00000188641   \n",
       "380      DPYD  protein_coding   DPYD  core  NM_000110.3  ENSG00000188641   \n",
       "381      DPYD  protein_coding   DPYD  core  NM_000110.3  ENSG00000188641   \n",
       "382      DPYD  protein_coding   DPYD  core  NM_000110.3  ENSG00000188641   \n",
       "\n",
       "     exon_length  gene_size sample  variants_effect_3_prime_UTR_variant  ...  \\\n",
       "19          6556     843316    H3A                                  8.0  ...   \n",
       "380         6556     843316     KG                                  0.0  ...   \n",
       "381         6556     843316     KG                                  0.0  ...   \n",
       "382         6556     843316     KG                                  6.0  ...   \n",
       "\n",
       "     variants_effect_stop_lost  variants_effect_stop_retained_variant  \\\n",
       "19                         0.0                                    0.0   \n",
       "380                        0.0                                    0.0   \n",
       "381                        0.0                                    0.0   \n",
       "382                        0.0                                    0.0   \n",
       "\n",
       "     variants_effect_structural_interaction_variant  \\\n",
       "19                                              0.0   \n",
       "380                                             0.0   \n",
       "381                                             0.0   \n",
       "382                                             0.0   \n",
       "\n",
       "     variants_effect_synonymous_variant  variants_effect_transcript_ablation  \\\n",
       "19                                 11.0                                  0.0   \n",
       "380                                 0.0                                  0.0   \n",
       "381                                 0.0                                  0.0   \n",
       "382                                 7.0                                  0.0   \n",
       "\n",
       "     variants_effect_upstream_gene_variant  variants_impact_HIGH  \\\n",
       "19                                    59.0                   1.0   \n",
       "380                                    0.0                   0.0   \n",
       "381                                    0.0                   0.0   \n",
       "382                                   50.0                   1.0   \n",
       "\n",
       "     variants_impact_LOW  variants_impact_MODERATE  variants_impact_MODIFIER  \n",
       "19                  15.0                      16.0                   13224.0  \n",
       "380                  0.0                       0.0                     247.0  \n",
       "381                  1.0                       3.0                    3590.0  \n",
       "382                  9.0                      18.0                   11510.0  \n",
       "\n",
       "[4 rows x 41 columns]"
      ]
     },
     "execution_count": 9,
     "metadata": {},
     "output_type": "execute_result"
    }
   ],
   "source": [
    "data[data[\"GeneId\"]==\"DPYD\"]"
   ]
  },
  {
   "cell_type": "code",
   "execution_count": 10,
   "metadata": {},
   "outputs": [
    {
     "ename": "AttributeError",
     "evalue": "module 'pandas' has no attribute 'reqd_x'",
     "output_type": "error",
     "traceback": [
      "\u001b[0;31m-----------------------------------------------------------------------\u001b[0m",
      "\u001b[0;31mAttributeError\u001b[0m                        Traceback (most recent call last)",
      "\u001b[0;32m<ipython-input-10-be966d43760a>\u001b[0m in \u001b[0;36m<module>\u001b[0;34m\u001b[0m\n\u001b[0;32m----> 1\u001b[0;31m \u001b[0mpd\u001b[0m\u001b[0;34m.\u001b[0m\u001b[0mreqd_x\u001b[0m\u001b[0;34m\u001b[0m\u001b[0;34m\u001b[0m\u001b[0m\n\u001b[0m",
      "\u001b[0;31mAttributeError\u001b[0m: module 'pandas' has no attribute 'reqd_x'"
     ]
    }
   ],
   "source": []
  },
  {
   "cell_type": "code",
   "execution_count": null,
   "metadata": {},
   "outputs": [],
   "source": []
  }
 ],
 "metadata": {
  "kernelspec": {
   "display_name": "Python 3",
   "language": "python",
   "name": "python3"
  },
  "language_info": {
   "codemirror_mode": {
    "name": "ipython",
    "version": 3
   },
   "file_extension": ".py",
   "mimetype": "text/x-python",
   "name": "python",
   "nbconvert_exporter": "python",
   "pygments_lexer": "ipython3",
   "version": "3.7.3"
  }
 },
 "nbformat": 4,
 "nbformat_minor": 2
}
